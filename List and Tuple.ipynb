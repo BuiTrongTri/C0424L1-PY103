{
 "cells": [
  {
   "cell_type": "markdown",
   "metadata": {},
   "source": [
    "## Review: type()"
   ]
  },
  {
   "cell_type": "code",
   "execution_count": 3,
   "metadata": {},
   "outputs": [
    {
     "name": "stdout",
     "output_type": "stream",
     "text": [
      "<class 'int'>\n",
      "<class 'float'>\n",
      "<class 'str'>\n",
      "<class 'bool'>\n"
     ]
    }
   ],
   "source": [
    "# Python có 4 kiểu dữ liệu cơ bản\n",
    "print(type(4))\n",
    "print(type(3.14))\n",
    "print(type('Hello World'))\n",
    "print(type(True))"
   ]
  },
  {
   "cell_type": "markdown",
   "metadata": {},
   "source": [
    "## list là gì?"
   ]
  },
  {
   "cell_type": "code",
   "execution_count": null,
   "metadata": {},
   "outputs": [],
   "source": [
    "# Ví dụ\n",
    "diem_van_1 = 7\n",
    "diem_toan_1 = 8\n",
    "diem_anh_1 = 6.5\n",
    "diem_van_2 = 6\n",
    "diem_toan_2 = 8.5\n",
    "diem_anh_2 = 6.5"
   ]
  },
  {
   "cell_type": "code",
   "execution_count": 8,
   "metadata": {},
   "outputs": [
    {
     "data": {
      "text/plain": [
       "[1, 'python', True, -10.05, [1, 2, 3]]"
      ]
     },
     "execution_count": 8,
     "metadata": {},
     "output_type": "execute_result"
    }
   ],
   "source": [
    "# Sử dụng list\n",
    "diem_van = [7, 6, 6.5]\n",
    "diem_toan = [8, 8.5, 7.5]\n",
    "diem_anh = [6, 6.5, 5.5]\n",
    "danh_sach_hoc_sinh = [\"Andy\", \"Bella\", \"Cindy\"]\n",
    "gioi_tinh = [True, False, False]\n",
    "[1, 'python', True, -10.05, [1, 2, 3]]"
   ]
  },
  {
   "cell_type": "code",
   "execution_count": 5,
   "metadata": {
    "scrolled": true
   },
   "outputs": [
    {
     "name": "stdout",
     "output_type": "stream",
     "text": [
      "<class 'list'>\n"
     ]
    }
   ],
   "source": [
    "print(type(diem_van))"
   ]
  },
  {
   "cell_type": "code",
   "execution_count": 9,
   "metadata": {
    "scrolled": true
   },
   "outputs": [
    {
     "name": "stdout",
     "output_type": "stream",
     "text": [
      "6\n",
      "6\n",
      "[7, 6.5, 6.5]\n"
     ]
    }
   ],
   "source": [
    "# Truy cập phần tử theo cơ chế indexing\n",
    "print(diem_van[1])\n",
    "\n",
    "# Truy cập phần tử theo cơ chế reversed indexing\n",
    "print(diem_van[-2])\n",
    "\n",
    "diem_van[1] = 6.5\n",
    "\n",
    "print(diem_van)\n"
   ]
  },
  {
   "cell_type": "markdown",
   "metadata": {},
   "source": [
    "### Thực hành: Viết chương trình tạo ra một list các string khác nhau và đếm tổng số lượng string dài hơn 3 kí tự"
   ]
  },
  {
   "cell_type": "code",
   "execution_count": null,
   "metadata": {},
   "outputs": [],
   "source": []
  },
  {
   "cell_type": "markdown",
   "metadata": {},
   "source": [
    "### Thực hành 2: Viết chương trình nhận vào 2 list và trả về True nếu 2 list có ít nhất 1 phần tử chung, ngược lại trả về False"
   ]
  },
  {
   "cell_type": "code",
   "execution_count": null,
   "metadata": {},
   "outputs": [],
   "source": []
  },
  {
   "cell_type": "markdown",
   "metadata": {},
   "source": [
    "## Các thao tác cơ bản với list"
   ]
  },
  {
   "cell_type": "markdown",
   "metadata": {},
   "source": [
    "### Kiểm tra độ dài list"
   ]
  },
  {
   "cell_type": "code",
   "execution_count": 10,
   "metadata": {},
   "outputs": [
    {
     "name": "stdout",
     "output_type": "stream",
     "text": [
      "6\n"
     ]
    }
   ],
   "source": [
    "numbers = [0, 1, 2, 3, 4, 5]\n",
    "print(len(numbers))"
   ]
  },
  {
   "cell_type": "markdown",
   "metadata": {},
   "source": [
    "### Truy cập phần tử trên list"
   ]
  },
  {
   "cell_type": "code",
   "execution_count": 13,
   "metadata": {
    "scrolled": true
   },
   "outputs": [
    {
     "name": "stdout",
     "output_type": "stream",
     "text": [
      "[0, 1, 2, 3, 4, 5]\n",
      "2\n",
      "[0, 1, 100, 3, 4, 5]\n"
     ]
    }
   ],
   "source": [
    "numbers = [0, 1, 2, 3, 4, 5]\n",
    "print(numbers)\n",
    "print(numbers[2])  # indexing\n",
    "\n",
    "# item assignment\n",
    "numbers[-4] = 100  # reversed indexing  \n",
    "print(numbers)"
   ]
  },
  {
   "cell_type": "markdown",
   "metadata": {},
   "source": [
    "### Cắt list"
   ]
  },
  {
   "cell_type": "code",
   "execution_count": 20,
   "metadata": {
    "scrolled": true
   },
   "outputs": [
    {
     "name": "stdout",
     "output_type": "stream",
     "text": [
      "[0, 2, 4]\n",
      "[0, 2, 4]\n",
      "[1, 3, 5]\n",
      "[1, 3, 5]\n",
      "[1, 2, 3]\n",
      "[5, 4, 3, 2, 1, 0]\n"
     ]
    }
   ],
   "source": [
    "numbers = [0, 1, 2, 3, 4, 5]\n",
    "\n",
    "# [0, 2, 4]\n",
    "print(numbers[0:5:2])\n",
    "print(numbers[:5:2])\n",
    "\n",
    "# [1, 3, 5]\n",
    "print(numbers[1:6:2])\n",
    "print(numbers[1::2])\n",
    "\n",
    "# [1, 2, 3]\n",
    "print(numbers[1:4])\n",
    "\n",
    "# đảo ngược list\n",
    "print(numbers[::-1])"
   ]
  },
  {
   "cell_type": "markdown",
   "metadata": {},
   "source": [
    "### Duyệt list"
   ]
  },
  {
   "cell_type": "code",
   "execution_count": 24,
   "metadata": {},
   "outputs": [
    {
     "name": "stdout",
     "output_type": "stream",
     "text": [
      "Monday\n",
      "Tuesday\n",
      "Wednesday\n",
      "Thursday\n",
      "Friday\n",
      "Saturday\n",
      "Sunday\n",
      "--------------------\n",
      "Monday\n",
      "Tuesday\n",
      "Wednesday\n",
      "Thursday\n",
      "Friday\n",
      "Saturday\n",
      "Sunday\n"
     ]
    }
   ],
   "source": [
    "weekdays = ['Monday', 'Tuesday', 'Wednesday', 'Thursday', 'Friday', 'Saturday', 'Sunday']\n",
    "\n",
    "# duyệt phần tử theo index\n",
    "for i in range(len(weekdays)):\n",
    "    print(weekdays[i])\n",
    "    \n",
    "print('-' * 20)\n",
    "\n",
    "# duyệt phần tử theo giá trị\n",
    "for day in weekdays:\n",
    "    print(day)"
   ]
  },
  {
   "cell_type": "markdown",
   "metadata": {},
   "source": [
    "### Thực hành: Tạo một list 10 số tự nhiên và in ra các phần tử trong list"
   ]
  },
  {
   "cell_type": "code",
   "execution_count": 26,
   "metadata": {
    "collapsed": true,
    "jupyter": {
     "outputs_hidden": true
    }
   },
   "outputs": [
    {
     "name": "stdout",
     "output_type": "stream",
     "text": [
      "0\n",
      "1\n",
      "2\n",
      "3\n",
      "4\n",
      "5\n",
      "6\n",
      "7\n",
      "8\n",
      "9\n",
      "--------------------\n",
      "0\n",
      "1\n",
      "2\n",
      "3\n",
      "4\n",
      "5\n",
      "6\n",
      "7\n",
      "8\n",
      "9\n"
     ]
    }
   ],
   "source": [
    "numbers = [0, 1, 2, 3, 4, 5, 6, 7, 8, 9]\n",
    "\n",
    "# duyệt theo index\n",
    "for i in range(len(numbers)):\n",
    "    print(numbers[i])\n",
    "\n",
    "print('-' * 20)\n",
    "# duyệt theo giá trị\n",
    "for num in numbers:\n",
    "    print(num)\n"
   ]
  },
  {
   "cell_type": "markdown",
   "metadata": {},
   "source": [
    "### Thực hành 2: Tạo ra một list con chưa 2 phần tử cuối cùng từ list đã tạo ở trên"
   ]
  },
  {
   "cell_type": "code",
   "execution_count": 29,
   "metadata": {},
   "outputs": [
    {
     "name": "stdout",
     "output_type": "stream",
     "text": [
      "[8, 9]\n"
     ]
    }
   ],
   "source": [
    "new_list = numbers[-2:]\n",
    "print(new_list)"
   ]
  },
  {
   "cell_type": "markdown",
   "metadata": {},
   "source": [
    "### Cộng list"
   ]
  },
  {
   "cell_type": "code",
   "execution_count": 21,
   "metadata": {},
   "outputs": [
    {
     "name": "stdout",
     "output_type": "stream",
     "text": [
      "[1, 2, 3, 4, 5, 6, 7]\n",
      "[1, 2, 3, 1, 2, 3, 1, 2, 3]\n"
     ]
    }
   ],
   "source": [
    "a = [1, 2, 3]\n",
    "b = [4, 5, 6, 7]\n",
    "c = a + b\n",
    "print(c)\n",
    "\n",
    "d = a * 3\n",
    "print(d)"
   ]
  },
  {
   "cell_type": "markdown",
   "metadata": {},
   "source": [
    "### Thực hành: Thêm học sinh vào lớp"
   ]
  },
  {
   "cell_type": "code",
   "execution_count": 36,
   "metadata": {},
   "outputs": [
    {
     "name": "stdout",
     "output_type": "stream",
     "text": [
      "['Andy', 'Bella', 'Cindy', 'Daniel', 'Eric', 'Frank']\n",
      "['Andy', 'Bella', 'Cindy', 'Daniel', 'Eric', 'Frank', 'Gwen']\n",
      "['Andy', 'Bella', 'Cindy', 'Daniel', 'Eric', 'Frank', 'Gwen', 'Eric', 'Frank']\n",
      "['Andy', 'Bella', 'Cindy', 'Daniel', 'Eric', 'Frank', 'Gwen', 'Eric']\n",
      "Học sinh chuyển lớp: Frank\n",
      "['Andy', 'Bella', 'Cindy', 'Daniel', 'Eric', 'Frank']\n"
     ]
    }
   ],
   "source": [
    "# Tạo một List danh_sach_Lop chứa tên của 4 học sinh khác nhau. \n",
    "danh_sach_lop = ['Andy', 'Bella', 'Cindy', 'Daniel']\n",
    "\n",
    "# Tạo thêm một List hoc_sinh_moi chứa tên của 2 học sinh mới vào lớp. \n",
    "hoc_sinh_moi = ['Eric', 'Frank']\n",
    "\n",
    "# Thêm học sinh vào Lớp\n",
    "# cách 1\n",
    "danh_sach_lop += hoc_sinh_moi\n",
    "print(danh_sach_lop)\n",
    "\n",
    "# cách 2\n",
    "danh_sach_lop.append('Gwen')\n",
    "print(danh_sach_lop)\n",
    "\n",
    "# cách 3\n",
    "danh_sach_lop.extend(hoc_sinh_moi)\n",
    "print(danh_sach_lop)\n",
    "\n",
    "# ---------------------------------------------------\n",
    "\n",
    "# Xóa học sinh ra khỏi danh sách lớp\n",
    "# cách 1\n",
    "# xóa phần tử cuối cùng trong list và return về phần từ đã bị xóa\n",
    "hoc_sinh_chuyen_lop = danh_sach_lop.pop()\n",
    "print(danh_sach_lop)\n",
    "print(f\"Học sinh chuyển lớp: {hoc_sinh_chuyen_lop}\")\n",
    "\n",
    "# cách 2\n",
    "danh_sach_lop = danh_sach_lop[:-2]\n",
    "print(danh_sach_lop)"
   ]
  },
  {
   "cell_type": "markdown",
   "metadata": {},
   "source": [
    "### Kiểm tra phần tử tồn tại trong list"
   ]
  },
  {
   "cell_type": "code",
   "execution_count": 37,
   "metadata": {},
   "outputs": [
    {
     "name": "stdout",
     "output_type": "stream",
     "text": [
      "False\n"
     ]
    }
   ],
   "source": [
    "danh_sach_lop = ['Andy', 'Bella', 'Cindy', 'Daniel']\n",
    "print('Anne' in danh_sach_lop)"
   ]
  },
  {
   "cell_type": "markdown",
   "metadata": {},
   "source": [
    "### Xóa phần tử khỏi list"
   ]
  },
  {
   "cell_type": "code",
   "execution_count": 38,
   "metadata": {},
   "outputs": [
    {
     "name": "stdout",
     "output_type": "stream",
     "text": [
      "[2, 3, 4]\n"
     ]
    }
   ],
   "source": [
    "# cách 1: pop\n",
    "\n",
    "# cách 2: slicing list\n",
    "\n",
    "# cách 3: remove()\n",
    "\n",
    "# cách 4: del\n",
    "a = [1, 2, 3, 4]\n",
    "del a[0]\n",
    "print(a)"
   ]
  },
  {
   "cell_type": "markdown",
   "metadata": {},
   "source": [
    "### Sắp xếp list"
   ]
  },
  {
   "cell_type": "code",
   "execution_count": 47,
   "metadata": {},
   "outputs": [
    {
     "name": "stdout",
     "output_type": "stream",
     "text": [
      "List before sort: [20, 31, 25, 67, 1, 173]\n",
      "List after sort: [1, 20, 25, 31, 67, 173]\n",
      "List after sort: [173, 67, 31, 25, 20, 1]\n"
     ]
    }
   ],
   "source": [
    "numbers = [20, 31, 25, 67, 1, 173]\n",
    "print(f\"List before sort: {numbers}\")\n",
    "\n",
    "# cách 1: sort() -> sắp xếp danh sách hiện tại, không return kết quả\n",
    "numbers.sort()\n",
    "print(f\"List after sort: {numbers}\")\n",
    "numbers.sort(reverse=True)\n",
    "print(f\"List after sort: {numbers}\")"
   ]
  },
  {
   "cell_type": "code",
   "execution_count": 49,
   "metadata": {},
   "outputs": [
    {
     "name": "stdout",
     "output_type": "stream",
     "text": [
      "List before sort: [20, 31, 25, 67, 1, 173]\n",
      "List after sort: [20, 31, 25, 67, 1, 173]\n",
      "Sorted list: [1, 20, 25, 31, 67, 173]\n"
     ]
    }
   ],
   "source": [
    "numbers = [20, 31, 25, 67, 1, 173]\n",
    "print(f\"List before sort: {numbers}\")\n",
    "# cách 2: sorted -> sắp xếp nhưng không làm thay đổi thứ tự của danh sách hiện tại, có return kết quả\n",
    "sorted_number = sorted(numbers)\n",
    "\n",
    "print(f\"List after sort: {numbers}\")\n",
    "print(f\"Sorted list: {sorted_number}\")"
   ]
  },
  {
   "cell_type": "markdown",
   "metadata": {},
   "source": [
    "### Làm rỗng list"
   ]
  },
  {
   "cell_type": "code",
   "execution_count": 50,
   "metadata": {},
   "outputs": [
    {
     "name": "stdout",
     "output_type": "stream",
     "text": [
      "[]\n"
     ]
    }
   ],
   "source": [
    "a = [1, 2, 3]\n",
    "\n",
    "a.clear()\n",
    "print(a)"
   ]
  },
  {
   "cell_type": "markdown",
   "metadata": {},
   "source": [
    "### Copy list"
   ]
  },
  {
   "attachments": {
    "6d318d4f-9017-454b-926b-f2834a46f8fb.png": {
     "image/png": "[encoded data removed]"
    }
   },
   "cell_type": "markdown",
   "metadata": {},
   "source": [
    "![image.png](attachment:6d318d4f-9017-454b-926b-f2834a46f8fb.png)"
   ]
  },
  {
   "cell_type": "markdown",
   "metadata": {},
   "source": [
    "## tuple"
   ]
  },
  {
   "cell_type": "code",
   "execution_count": 52,
   "metadata": {},
   "outputs": [
    {
     "name": "stdout",
     "output_type": "stream",
     "text": [
      "Python Fundamental\n",
      "3-5-7\n",
      "3\n",
      "Python Fundamental\n",
      "3-5-7\n",
      "3\n"
     ]
    }
   ],
   "source": [
    "course_info = (\"Python Fundamental\", \"3-5-7\", 3)\n",
    "for i in range(len(course_info)): \n",
    "    print(course_info[i])\n",
    "#course_info[0] = \"Javascript Fundamental\" error\n",
    "course_name, day, duration = course_info\n",
    "print(course_name)\n",
    "print(day)\n",
    "print(duration)"
   ]
  }
 ],
 "metadata": {
  "kernelspec": {
   "display_name": "Python 3 (ipykernel)",
   "language": "python",
   "name": "python3"
  },
  "language_info": {
   "codemirror_mode": {
    "name": "ipython",
    "version": 3
   },
   "file_extension": ".py",
   "mimetype": "text/x-python",
   "name": "python",
   "nbconvert_exporter": "python",
   "pygments_lexer": "ipython3",
   "version": "3.12.3"
  }
 },
 "nbformat": 4,
 "nbformat_minor": 4
}
