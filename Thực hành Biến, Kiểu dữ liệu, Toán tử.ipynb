{
 "cells": [
  {
   "cell_type": "markdown",
   "id": "c4c55388-fe0e-4545-ac19-57deafbea3d5",
   "metadata": {},
   "source": [
    "## Bài 1\n",
    "Viết chương trình nhập vào 2 số nguyên `num1` và `num2`. In ra tích của 2 số nguyên đó."
   ]
  },
  {
   "cell_type": "code",
   "execution_count": 1,
   "id": "6ba3baa4-ea94-4e10-b6b2-f16a9a80ec1e",
   "metadata": {},
   "outputs": [
    {
     "name": "stdin",
     "output_type": "stream",
     "text": [
      "Nhập số nguyên num1:  10\n",
      "Nhập số nguyên num2:  20\n"
     ]
    },
    {
     "name": "stdout",
     "output_type": "stream",
     "text": [
      "Tích của 2 số nguyên 10 và 20 là 200\n"
     ]
    }
   ],
   "source": [
    "num1 = int(input(\"Nhập số nguyên num1: \"))\n",
    "num2 = int(input(\"Nhập số nguyên num2: \"))\n",
    "\n",
    "print(f\"Tích của 2 số nguyên {num1} và {num2} là {num1 * num2}\")"
   ]
  },
  {
   "cell_type": "code",
   "execution_count": null,
   "id": "3145d30d-e719-4cea-bebc-df4675285b0f",
   "metadata": {},
   "outputs": [],
   "source": []
  }
 ],
 "metadata": {
  "kernelspec": {
   "display_name": "Python 3 (ipykernel)",
   "language": "python",
   "name": "python3"
  },
  "language_info": {
   "codemirror_mode": {
    "name": "ipython",
    "version": 3
   },
   "file_extension": ".py",
   "mimetype": "text/x-python",
   "name": "python",
   "nbconvert_exporter": "python",
   "pygments_lexer": "ipython3",
   "version": "3.12.3"
  }
 },
 "nbformat": 4,
 "nbformat_minor": 5
}
