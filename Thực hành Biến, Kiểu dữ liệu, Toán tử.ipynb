{
 "cells": [
  {
   "cell_type": "markdown",
   "id": "c4c55388-fe0e-4545-ac19-57deafbea3d5",
   "metadata": {},
   "source": [
    "## Bài 1\n",
    "Viết chương trình nhập vào 2 số nguyên `num1` và `num2`. In ra tích của 2 số nguyên đó."
   ]
  },
  {
   "cell_type": "code",
   "execution_count": 1,
   "id": "6ba3baa4-ea94-4e10-b6b2-f16a9a80ec1e",
   "metadata": {},
   "outputs": [
    {
     "name": "stdin",
     "output_type": "stream",
     "text": [
      "Nhập số nguyên num1:  10\n",
      "Nhập số nguyên num2:  20\n"
     ]
    },
    {
     "name": "stdout",
     "output_type": "stream",
     "text": [
      "Tích của 2 số nguyên 10 và 20 là 200\n"
     ]
    }
   ],
   "source": [
    "num1 = int(input(\"Nhập số nguyên num1: \"))\n",
    "num2 = int(input(\"Nhập số nguyên num2: \"))\n",
    "\n",
    "print(f\"Tích của 2 số nguyên {num1} và {num2} là {num1 * num2}\")"
   ]
  },
  {
   "cell_type": "markdown",
   "id": "0e7e1640-d429-4878-9e54-67c4b9dec576",
   "metadata": {},
   "source": [
    "## Bài 2 \n",
    "Nhập vào ba biến `diem_toan`, `diem_ly`, `diem_hoa` và in ra điểm trung bình của ba môn học trên."
   ]
  },
  {
   "cell_type": "code",
   "execution_count": 3,
   "id": "c95a0c10-12b9-4768-ab87-8a5d6823bd39",
   "metadata": {},
   "outputs": [
    {
     "name": "stdin",
     "output_type": "stream",
     "text": [
      "Nhập điểm toán:  8.8\n",
      "Nhập điểm lý:  7.25\n",
      "Nhập điểm hóa:  6.75\n"
     ]
    },
    {
     "name": "stdout",
     "output_type": "stream",
     "text": [
      "Điểm trung bình của ba môn học trên là 7.6000000000000005\n"
     ]
    }
   ],
   "source": [
    "diem_toan = float(input(\"Nhập điểm toán: \"))\n",
    "diem_ly = float(input(\"Nhập điểm lý: \"))\n",
    "diem_hoa = float(input(\"Nhập điểm hóa: \"))\n",
    "\n",
    "tb = (diem_toan + diem_ly + diem_hoa) / 3\n",
    "print(f\"Điểm trung bình của ba môn học trên là {tb}\")"
   ]
  },
  {
   "cell_type": "markdown",
   "id": "a881ce43-1224-4235-b4e9-27a95ae49fd5",
   "metadata": {},
   "source": [
    "## Bài 3\n",
    "Nhập vào vận tốc của đoàn tàu theo đơn vị km/h.\n",
    "\n",
    "a. Hỏi trung bình mỗi phút đoàn tàu đi được bao nhiêu mét?\n",
    "\n",
    "b. Sau 1 giờ 12 phút đoàn tàu đi được bao nhiêu km?"
   ]
  },
  {
   "cell_type": "code",
   "execution_count": 4,
   "id": "9d817808-e6ba-4d8c-815d-7b0385f9010a",
   "metadata": {},
   "outputs": [
    {
     "name": "stdin",
     "output_type": "stream",
     "text": [
      "Nhập vận tốc của đoàn tàu (km/h):  30\n"
     ]
    },
    {
     "name": "stdout",
     "output_type": "stream",
     "text": [
      "Trung bình mỗi phút đoàn tàu đi được 500.0 mét\n",
      "Sau 1 giờ 12 phút đoàn tàu đi được 36.0 km\n"
     ]
    }
   ],
   "source": [
    "v = float(input(\"Nhập vận tốc của đoàn tàu (km/h): \"))\n",
    "\n",
    "tb = v * 1000 / 60\n",
    "print(f\"Trung bình mỗi phút đoàn tàu đi được {tb} mét\")\n",
    "\n",
    "quang_duong = v * (1 + 12/60)\n",
    "print(f\"Sau 1 giờ 12 phút đoàn tàu đi được {quang_duong} km\")"
   ]
  },
  {
   "cell_type": "code",
   "execution_count": null,
   "id": "466b005d-f862-4d9e-92c6-ef1b8a57fe80",
   "metadata": {},
   "outputs": [],
   "source": []
  }
 ],
 "metadata": {
  "kernelspec": {
   "display_name": "Python 3 (ipykernel)",
   "language": "python",
   "name": "python3"
  },
  "language_info": {
   "codemirror_mode": {
    "name": "ipython",
    "version": 3
   },
   "file_extension": ".py",
   "mimetype": "text/x-python",
   "name": "python",
   "nbconvert_exporter": "python",
   "pygments_lexer": "ipython3",
   "version": "3.12.3"
  }
 },
 "nbformat": 4,
 "nbformat_minor": 5
}
